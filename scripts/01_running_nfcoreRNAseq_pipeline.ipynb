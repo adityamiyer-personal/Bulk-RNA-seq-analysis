{
  "cells": [
    {
      "cell_type": "raw",
      "metadata": {},
      "source": [
        "---\n",
        "title: \"01_Running-RNAseq_pipeline\"\n",
        "format:\n",
        "  html:\n",
        "    code-fold: true\n",
        "    code-tools: true\n",
        "    toc: true\n",
        "    eval: false\n",
        "editor: visual\n",
        "editor_options: \n",
        "  chunk_output_type: console\n",
        "---"
      ],
      "id": "0c796122"
    },
    {
      "cell_type": "markdown",
      "metadata": {},
      "source": [
        "## Using the nf-core pipeline\n",
        "\n",
        "nf-core RNA-seq allows us to perform the basic processing of RNA-seq reads in a reproducing fashion using community contributed pipelines. I ran the\n",
        "\n",
        "### Creation and setting up of conda environment\n",
        "\n",
        "\n",
        "```{bash}\n",
        "#Creation of conda environment\n",
        "conda create -n bulkrnaseq\n",
        "\n",
        "#Activation of conda environment\n",
        "conda activate bulkrnaseq\n",
        "\n",
        "#install nextflow\n",
        "conda install bioconda::nextflow \n",
        "```\n",
        "\n",
        "\n",
        "### Test nfcore rnaseq run\n",
        "\n",
        "\n",
        "```{bash}\n",
        "#in the conda environment, run\n",
        "nextflow run nf-core/rnaseq \\\n",
        "  -profile test,conda \\\n",
        "  --outdir /Users/adityamiyer/Documents/BiostateAI/results/test_output/ \\\n",
        "  -work-dir /Users/adityamiyer/Documents/BiostateAI/results/test_workdir/\n",
        "```\n",
        "\n",
        "\n",
        "The `echo: false` option disables the printing of code (only output is displayed)."
      ],
      "id": "3e6e5be6"
    }
  ],
  "metadata": {
    "kernelspec": {
      "display_name": "Python 3",
      "language": "python",
      "name": "python3"
    }
  },
  "nbformat": 4,
  "nbformat_minor": 5
}